{
  "cells": [
    {
      "cell_type": "markdown",
      "source": [
        "Doing Sentimental Analysis"
      ],
      "metadata": {
        "id": "4_O_3wYRPRhX"
      },
      "id": "4_O_3wYRPRhX"
    },
    {
      "cell_type": "code",
      "source": [
        "import pandas as pd\n",
        "import nltk\n",
        "from nltk.sentiment.vader import SentimentIntensityAnalyzer\n",
        "\n",
        "\n",
        "nltk.download('vader_lexicon')\n",
        "# Initialize the sentiment analyzer\n",
        "sia = SentimentIntensityAnalyzer()\n",
        "\n",
        "# Function to perform sentiment analysis\n",
        "def analyze_sentiment(text):\n",
        "    sentiment_score = sia.polarity_scores(text)\n",
        "\n",
        "    if sentiment_score['compound'] > 0:\n",
        "        return 'Positive'\n",
        "    elif sentiment_score['compound'] < 0:\n",
        "        return 'Negative'\n",
        "    else:\n",
        "        return 'Neutral'\n",
        "\n",
        "# Perform sentiment analysis on each narrative\n",
        "sentiments = []\n",
        "for index, row in data.iterrows():\n",
        "    sentiment = analyze_sentiment(row['narrative'])\n",
        "    sentiments.append(sentiment)\n",
        "\n",
        "# Add sentiment labels to the dataset or store separately for further analysis\n",
        "data['sentiment'] = sentiments\n",
        "\n",
        "# Display the DataFrame with sentiment labels\n",
        "print(data.head())"
      ],
      "metadata": {
        "colab": {
          "base_uri": "https://localhost:8080/"
        },
        "id": "NdG5NUF3WUhH",
        "outputId": "2659aa75-07ba-4b05-d978-33c90a71772b"
      },
      "id": "NdG5NUF3WUhH",
      "execution_count": null,
      "outputs": [
        {
          "output_type": "stream",
          "name": "stderr",
          "text": [
            "[nltk_data] Downloading package vader_lexicon to /root/nltk_data...\n"
          ]
        },
        {
          "output_type": "stream",
          "name": "stdout",
          "text": [
            "   Unnamed: 0           product  \\\n",
            "0           0       credit_card   \n",
            "1           1       credit_card   \n",
            "2           2    retail_banking   \n",
            "3           3  credit_reporting   \n",
            "4           4  credit_reporting   \n",
            "\n",
            "                                           narrative sentiment  \n",
            "0  purchase order day shipping amount receive pro...  Positive  \n",
            "1  forwarded message date tue subject please inve...  Positive  \n",
            "2  forwarded message cc sent friday pdt subject f...  Negative  \n",
            "3  payment history missing credit report speciali...  Negative  \n",
            "4  payment history missing credit report made mis...  Negative  \n"
          ]
        }
      ]
    },
    {
      "cell_type": "code",
      "source": [
        "# Narrative input from the user\n",
        "input_narrative = input(\"Enter your narrative: \")\n",
        "\n",
        "# Perform sentiment analysis on the input narrative\n",
        "input_sentiment = analyze_sentiment(input_narrative)\n",
        "\n",
        "# Print the predicted sentiment\n",
        "print(\"Predicted Sentiment:\", input_sentiment)\n",
        "\n",
        "positive_count += (input_sentiment == 'Positive')\n",
        "negative_count += (input_sentiment == 'Negative')\n",
        "total_count += 1  # Increment total count by 1 for the new input narrative\n",
        "\n",
        "# Calculate accuracy\n",
        "accuracy = ((positive_count + negative_count) / total_count) * 100\n",
        "\n",
        "# Print the updated results\n",
        "print(\"Updated Total Positive Rows:\", positive_count)\n",
        "print(\"Updated Total Negative Rows:\", negative_count)\n",
        "print(\"Updated Total Rows:\", total_count)\n",
        "print(\"Updated Accuracy:\",accuracy,\"%\")"
      ],
      "metadata": {
        "colab": {
          "base_uri": "https://localhost:8080/"
        },
        "id": "xidIfHJFeq6O",
        "outputId": "a358567f-6081-42d6-df0a-c500b99ef298"
      },
      "id": "xidIfHJFeq6O",
      "execution_count": null,
      "outputs": [
        {
          "output_type": "stream",
          "name": "stdout",
          "text": [
            "Enter your narrative: good\n",
            "Predicted Sentiment: Positive\n",
            "Updated Total Positive Rows: 107\n",
            "Updated Total Negative Rows: 330\n",
            "Updated Total Rows: 443\n",
            "Updated Accuracy: 98.64559819413093 %\n"
          ]
        }
      ]
    },
    {
      "cell_type": "code",
      "source": [
        "import pandas as pd\n",
        "import nltk\n",
        "from nltk.sentiment.vader import SentimentIntensityAnalyzer\n",
        "\n",
        "\n",
        "nltk.download('vader_lexicon')\n",
        "\n",
        "# Initialize the sentiment analyzer\n",
        "sia = SentimentIntensityAnalyzer()\n",
        "\n",
        "# Function to perform sentiment analysis\n",
        "def analyze_sentiment(text):\n",
        "    sentiment_score = sia.polarity_scores(text)\n",
        "    if sentiment_score['compound'] > 0.2:\n",
        "        return 'Positive'\n",
        "    elif sentiment_score['compound'] < -0.2:\n",
        "        return 'Negative'\n",
        "    else:\n",
        "        return 'Neutral'\n",
        "\n",
        "# Perform sentiment analysis on each narrative\n",
        "sentiments = []\n",
        "for index, row in data.iterrows():\n",
        "    sentiment = analyze_sentiment(row['narrative'])\n",
        "    sentiments.append(sentiment)\n",
        "\n",
        "# Add sentiment labels to the dataset or store separately for further analysis\n",
        "data['sentiment'] = sentiments\n",
        "\n",
        "# Display the DataFrame with sentiment labels\n",
        "print(data.head())\n",
        "\n",
        "# Count the total number of positive and negative rows\n",
        "positive_count = (data['sentiment'] == 'Positive').sum()\n",
        "negative_count = (data['sentiment'] == 'Negative').sum()\n",
        "total_count = len(data)\n",
        "\n",
        "# Calculate accuracy\n",
        "accuracy = ((positive_count + negative_count) / total_count) * 100\n",
        "\n",
        "# Print the results\n",
        "print(\"Total Positive Rows:\", positive_count)\n",
        "print(\"Total Negative Rows:\", negative_count)\n",
        "print(\"Total Rows:\", total_count)\n",
        "print(\"Accuracy:\", accuracy, \"%\")"
      ],
      "metadata": {
        "colab": {
          "base_uri": "https://localhost:8080/"
        },
        "id": "ya4ObhHIgxS0",
        "outputId": "891aeedf-3d21-47ec-a97a-61671211bab5"
      },
      "id": "ya4ObhHIgxS0",
      "execution_count": null,
      "outputs": [
        {
          "output_type": "stream",
          "name": "stderr",
          "text": [
            "[nltk_data] Downloading package vader_lexicon to /root/nltk_data...\n",
            "[nltk_data]   Package vader_lexicon is already up-to-date!\n"
          ]
        },
        {
          "output_type": "stream",
          "name": "stdout",
          "text": [
            "   Unnamed: 0           product  \\\n",
            "0           0       credit_card   \n",
            "1           1       credit_card   \n",
            "2           2    retail_banking   \n",
            "3           3  credit_reporting   \n",
            "4           4  credit_reporting   \n",
            "\n",
            "                                           narrative sentiment  \n",
            "0  purchase order day shipping amount receive pro...  Positive  \n",
            "1  forwarded message date tue subject please inve...  Positive  \n",
            "2  forwarded message cc sent friday pdt subject f...  Negative  \n",
            "3  payment history missing credit report speciali...   Neutral  \n",
            "4  payment history missing credit report made mis...   Neutral  \n",
            "Total Positive Rows: 91\n",
            "Total Negative Rows: 317\n",
            "Total Rows: 442\n",
            "Accuracy: 92.3076923076923 %\n"
          ]
        }
      ]
    },
    {
      "cell_type": "code",
      "source": [],
      "metadata": {
        "id": "ljXm1l4tPKe1"
      },
      "id": "ljXm1l4tPKe1",
      "execution_count": null,
      "outputs": []
    }
  ],
  "metadata": {
    "kernelspec": {
      "display_name": "Python 3 (ipykernel)",
      "language": "python",
      "name": "python3"
    },
    "language_info": {
      "codemirror_mode": {
        "name": "ipython",
        "version": 3
      },
      "file_extension": ".py",
      "mimetype": "text/x-python",
      "name": "python",
      "nbconvert_exporter": "python",
      "pygments_lexer": "ipython3",
      "version": "3.9.12"
    },
    "colab": {
      "provenance": []
    }
  },
  "nbformat": 4,
  "nbformat_minor": 5
}